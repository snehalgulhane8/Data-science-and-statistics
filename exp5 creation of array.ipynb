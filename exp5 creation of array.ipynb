{
 "cells": [
  {
   "cell_type": "code",
   "execution_count": 1,
   "id": "3ccf7ae0-529a-4bea-96bd-a815d907faa2",
   "metadata": {},
   "outputs": [],
   "source": [
    "#EXPERIMENT\tNO\t5"
   ]
  },
  {
   "cell_type": "code",
   "execution_count": 2,
   "id": "80d4c547-e3a7-487a-9ab4-20d6573792c2",
   "metadata": {},
   "outputs": [],
   "source": [
    "#AIM : Creating dimensional array"
   ]
  },
  {
   "cell_type": "code",
   "execution_count": 3,
   "id": "138b9043-7d24-43c8-a894-5aea63c0d396",
   "metadata": {},
   "outputs": [],
   "source": [
    "#name :Snehal gulhane\n",
    "#Roll no. : 18\n",
    "#Sec : CSE-DS\n",
    "#Subject : ET-I"
   ]
  },
  {
   "cell_type": "code",
   "execution_count": 4,
   "id": "7c9b5952-16f4-4c18-83e3-1ee81a6e92e3",
   "metadata": {},
   "outputs": [],
   "source": [
    "import numpy as np"
   ]
  },
  {
   "cell_type": "code",
   "execution_count": 5,
   "id": "aeb1218e-1627-4e0b-afc3-85ff9bcaccf4",
   "metadata": {},
   "outputs": [],
   "source": [
    "#creating 1D array. (square bracket in round = array)(square bracket=tuple)\n",
    "a1=np.array([10,20,30,40])\n"
   ]
  },
  {
   "cell_type": "code",
   "execution_count": 6,
   "id": "03accd5c-d5d4-4ded-9c8b-22fc77743d6d",
   "metadata": {},
   "outputs": [
    {
     "data": {
      "text/plain": [
       "array([10, 20, 30, 40])"
      ]
     },
     "execution_count": 6,
     "metadata": {},
     "output_type": "execute_result"
    }
   ],
   "source": [
    "a1"
   ]
  },
  {
   "cell_type": "code",
   "execution_count": 7,
   "id": "f613831c-a2ee-4a02-8355-10ce40b0a6fb",
   "metadata": {},
   "outputs": [],
   "source": [
    "#creating 2D array\n",
    "a2 = np.array([[11,30,20,40],[34,89,47,34]])"
   ]
  },
  {
   "cell_type": "code",
   "execution_count": 8,
   "id": "93b3687c-0f24-423a-afb3-8801a84226fa",
   "metadata": {},
   "outputs": [
    {
     "data": {
      "text/plain": [
       "array([[11, 30, 20, 40],\n",
       "       [34, 89, 47, 34]])"
      ]
     },
     "execution_count": 8,
     "metadata": {},
     "output_type": "execute_result"
    }
   ],
   "source": [
    "a2"
   ]
  },
  {
   "cell_type": "code",
   "execution_count": 9,
   "id": "98ee35d4-4e1a-430a-9fcc-e78a087e98a6",
   "metadata": {},
   "outputs": [
    {
     "name": "stdout",
     "output_type": "stream",
     "text": [
      "[[11 23]\n",
      " [33 45]\n",
      " [67 78]]\n"
     ]
    }
   ],
   "source": [
    "#creating 2D array using matrix\n",
    "a3=np.matrix('11,23;33,45;67,78')\n",
    "print(a3)"
   ]
  },
  {
   "cell_type": "code",
   "execution_count": 10,
   "id": "7d5c801e-0e19-415c-bd1f-59b62f12b2a1",
   "metadata": {},
   "outputs": [
    {
     "name": "stdout",
     "output_type": "stream",
     "text": [
      "[20 22 20 21 22 20 22 22 20 21 23 21 21 21 20 21 22 22 22 23 22 20 23 23\n",
      " 23]\n"
     ]
    }
   ],
   "source": [
    "# Create array of 25 random integers between 20 and 23 (inclusive)\n",
    "arr = np.random.randint(20, 24, size=25)\n",
    "print(arr)"
   ]
  },
  {
   "cell_type": "code",
   "execution_count": null,
   "id": "aafdcd35-a802-4098-bc3f-21f2321fde32",
   "metadata": {},
   "outputs": [],
   "source": []
  }
 ],
 "metadata": {
  "kernelspec": {
   "display_name": "Python [conda env:base] *",
   "language": "python",
   "name": "conda-base-py"
  },
  "language_info": {
   "codemirror_mode": {
    "name": "ipython",
    "version": 3
   },
   "file_extension": ".py",
   "mimetype": "text/x-python",
   "name": "python",
   "nbconvert_exporter": "python",
   "pygments_lexer": "ipython3",
   "version": "3.13.5"
  }
 },
 "nbformat": 4,
 "nbformat_minor": 5
}
